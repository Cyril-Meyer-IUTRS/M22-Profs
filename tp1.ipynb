{
 "cells": [
  {
   "cell_type": "code",
   "execution_count": 1,
   "id": "6cfd93ba-c525-4fe1-853d-5833fa5ce780",
   "metadata": {
    "tags": []
   },
   "outputs": [],
   "source": [
    "import math\n",
    "import random\n",
    "\n",
    "import numpy as np\n",
    "import pandas as pd\n",
    "import matplotlib.pyplot as plt"
   ]
  },
  {
   "cell_type": "code",
   "execution_count": 2,
   "id": "964cbc28-6b5c-44d9-a010-1e87c4fad862",
   "metadata": {
    "tags": []
   },
   "outputs": [
    {
     "data": {
      "text/plain": [
       "[1, 2, 3, 4, 5, 6, 7, 8, 9, 10, 11, 12, 13, 14, 15]"
      ]
     },
     "execution_count": 2,
     "metadata": {},
     "output_type": "execute_result"
    }
   ],
   "source": [
    "a = [i for i in range(1, 16)]\n",
    "a"
   ]
  },
  {
   "cell_type": "code",
   "execution_count": 3,
   "id": "917f7b15-f8a5-4a6c-b029-35a73f27b2de",
   "metadata": {
    "tags": []
   },
   "outputs": [
    {
     "data": {
      "text/plain": [
       "[1, 4, 7, 10, 13, 16, 19, 22, 25, 28, 31, 34, 37, 40, 43]"
      ]
     },
     "execution_count": 3,
     "metadata": {},
     "output_type": "execute_result"
    }
   ],
   "source": [
    "b = [i for i in range(1, 44, 3)]\n",
    "b"
   ]
  },
  {
   "cell_type": "code",
   "execution_count": 4,
   "id": "10f4218f-4b56-4b00-89fc-34c69f22159e",
   "metadata": {
    "tags": []
   },
   "outputs": [
    {
     "data": {
      "text/plain": [
       "['quatre', 'chaine', 'de', 'caractères']"
      ]
     },
     "execution_count": 4,
     "metadata": {},
     "output_type": "execute_result"
    }
   ],
   "source": [
    "d = [\"quatre\", \"chaine\", \"de\", \"caractères\"]\n",
    "d"
   ]
  },
  {
   "cell_type": "code",
   "execution_count": 5,
   "id": "9ac4ae81-9bdd-4044-813e-b5cf6e036a06",
   "metadata": {
    "tags": []
   },
   "outputs": [
    {
     "data": {
      "text/plain": [
       "(array([ 1,  2,  3,  4,  5,  6,  7,  8,  9, 10, 11, 12, 13, 14, 15]),\n",
       " array([ 1,  4,  7, 10, 13, 16, 19, 22, 25, 28, 31, 34, 37, 40, 43]))"
      ]
     },
     "execution_count": 5,
     "metadata": {},
     "output_type": "execute_result"
    }
   ],
   "source": [
    "a = np.array(a)\n",
    "b = np.array(b)\n",
    "a, b"
   ]
  },
  {
   "cell_type": "code",
   "execution_count": 6,
   "id": "56336d1a-aaa1-496c-88fb-0a4af8bbade4",
   "metadata": {
    "tags": []
   },
   "outputs": [
    {
     "data": {
      "text/plain": [
       "array([ 6,  8, 10, 12, 14, 16, 18, 20, 22, 24, 26, 28, 30, 32, 34])"
      ]
     },
     "execution_count": 6,
     "metadata": {},
     "output_type": "execute_result"
    }
   ],
   "source": [
    "a += 2\n",
    "a *= 2\n",
    "a"
   ]
  },
  {
   "cell_type": "code",
   "execution_count": 7,
   "id": "078fae26-42de-4ea8-8e56-68ccba08d530",
   "metadata": {
    "tags": []
   },
   "outputs": [
    {
     "data": {
      "text/plain": [
       "array([   6,   32,   70,  120,  182,  256,  342,  440,  550,  672,  806,\n",
       "        952, 1110, 1280, 1462])"
      ]
     },
     "execution_count": 7,
     "metadata": {},
     "output_type": "execute_result"
    }
   ],
   "source": [
    "a * b"
   ]
  },
  {
   "cell_type": "code",
   "execution_count": 8,
   "id": "a825876d-1ba1-4b56-bf1b-ac127caeb60f",
   "metadata": {
    "tags": []
   },
   "outputs": [
    {
     "data": {
      "text/plain": [
       "(22.0, 168.0, 12.96148139681572, 22.0, 1, 43)"
      ]
     },
     "execution_count": 8,
     "metadata": {},
     "output_type": "execute_result"
    }
   ],
   "source": [
    "b.mean(), b.var(), b.std(), np.median(b), b.min(), b.max()"
   ]
  },
  {
   "cell_type": "code",
   "execution_count": 9,
   "id": "ea1cd8bf-efde-4e7f-92bc-1517b5768fdb",
   "metadata": {
    "tags": []
   },
   "outputs": [
    {
     "data": {
      "text/plain": [
       "array([ 1. , 11.5, 22. , 32.5, 43. ])"
      ]
     },
     "execution_count": 9,
     "metadata": {},
     "output_type": "execute_result"
    }
   ],
   "source": [
    "np.quantile(b, [0, 0.25, 0.5, 0.75, 1])\n",
    "# np.quantile(b, [0, 0.25, 0.5, 0.75, 1], interpolation='nearest')"
   ]
  },
  {
   "cell_type": "code",
   "execution_count": 10,
   "id": "dbb8bebe-04ce-486d-9e95-28635ad18166",
   "metadata": {
    "tags": []
   },
   "outputs": [
    {
     "data": {
      "text/plain": [
       "(22.0, 168.0, 12.96148139681572)"
      ]
     },
     "execution_count": 10,
     "metadata": {},
     "output_type": "execute_result"
    }
   ],
   "source": [
    "def moyenne(x):\n",
    "    m = 0\n",
    "    for i in x:\n",
    "        m += i\n",
    "    return m / len(x)\n",
    "\n",
    "def variance(x):\n",
    "    v = 0\n",
    "    m = moyenne(x)\n",
    "    for i in x:\n",
    "        v += (i - m)**2\n",
    "    return v / len(x)\n",
    "\n",
    "def ecarttype(x):\n",
    "    return math.sqrt(variance(x))\n",
    "        \n",
    "\n",
    "moyenne(b), variance(b), ecarttype(b)"
   ]
  },
  {
   "cell_type": "code",
   "execution_count": 11,
   "id": "8ad7caa6-c44e-4674-9bc3-8647cbdc6b9b",
   "metadata": {
    "tags": []
   },
   "outputs": [
    {
     "data": {
      "text/plain": [
       "array([10.16015516,  8.0682912 , 13.74880552,  7.72819992,  7.72988653,\n",
       "       10.97627873,  8.58854411,  8.75413973, 10.00392887, 11.41204177,\n",
       "       11.17638093, 12.14474092,  9.80961428,  9.9290227 , 13.42009024])"
      ]
     },
     "execution_count": 11,
     "metadata": {},
     "output_type": "execute_result"
    }
   ],
   "source": [
    "vals_norm = np.random.normal(loc=10, scale=2, size=15)\n",
    "vals_norm"
   ]
  },
  {
   "cell_type": "code",
   "execution_count": 12,
   "id": "c0fdc7d8-6487-48af-94e6-9d9c7e506ba6",
   "metadata": {
    "tags": []
   },
   "outputs": [
    {
     "data": {
      "text/plain": [
       "array([12.52406004,  5.06813774, 15.37022136, 12.6538523 ,  0.12421111,\n",
       "       10.94809115,  7.19761303,  0.92860508, 13.69315985,  9.35898567,\n",
       "       18.3268273 ,  8.58734474, 10.97272157,  7.71717633, 16.54117992])"
      ]
     },
     "execution_count": 12,
     "metadata": {},
     "output_type": "execute_result"
    }
   ],
   "source": [
    "vals_unif = np.random.uniform(low=0, high=20, size=15)\n",
    "vals_unif"
   ]
  },
  {
   "cell_type": "code",
   "execution_count": 13,
   "id": "1f1c1db4-9d1e-48d9-b550-9561d59eb77c",
   "metadata": {
    "tags": []
   },
   "outputs": [
    {
     "data": {
      "image/png": "[encoded data removed]",
      "text/plain": [
       "<Figure size 640x480 with 1 Axes>"
      ]
     },
     "metadata": {},
     "output_type": "display_data"
    }
   ],
   "source": [
    "plt.plot(range(0, 15), a, b)\n",
    "plt.show()"
   ]
  },
  {
   "cell_type": "code",
   "execution_count": 14,
   "id": "7da26b7a-901c-4820-acf4-45897b61e493",
   "metadata": {
    "tags": []
   },
   "outputs": [
    {
     "data": {
      "image/png": "[encoded data removed]",
      "text/plain": [
       "<Figure size 640x480 with 1 Axes>"
      ]
     },
     "metadata": {},
     "output_type": "display_data"
    },
    {
     "data": {
      "text/plain": [
       "(7.728199918632633, 13.748805523428029, 0.12421110601306129, 18.32682730476207)"
      ]
     },
     "execution_count": 14,
     "metadata": {},
     "output_type": "execute_result"
    }
   ],
   "source": [
    "ax = plt.plot(range(0, 15), sorted(vals_norm), sorted(vals_unif))\n",
    "plt.show()\n",
    "vals_norm.min(), vals_norm.max(), vals_unif.min(), vals_unif.max()"
   ]
  },
  {
   "cell_type": "code",
   "execution_count": 15,
   "id": "95498482-d024-4e60-a30d-2e2420cb1f56",
   "metadata": {
    "tags": []
   },
   "outputs": [
    {
     "data": {
      "text/html": [
       "<div>\n",
       "<style scoped>\n",
       "    .dataframe tbody tr th:only-of-type {\n",
       "        vertical-align: middle;\n",
       "    }\n",
       "\n",
       "    .dataframe tbody tr th {\n",
       "        vertical-align: top;\n",
       "    }\n",
       "\n",
       "    .dataframe thead th {\n",
       "        text-align: right;\n",
       "    }\n",
       "</style>\n",
       "<table border=\"1\" class=\"dataframe\">\n",
       "  <thead>\n",
       "    <tr style=\"text-align: right;\">\n",
       "      <th></th>\n",
       "      <th>norm</th>\n",
       "      <th>unif</th>\n",
       "    </tr>\n",
       "  </thead>\n",
       "  <tbody>\n",
       "    <tr>\n",
       "      <th>0</th>\n",
       "      <td>10.160155</td>\n",
       "      <td>12.524060</td>\n",
       "    </tr>\n",
       "    <tr>\n",
       "      <th>1</th>\n",
       "      <td>8.068291</td>\n",
       "      <td>5.068138</td>\n",
       "    </tr>\n",
       "    <tr>\n",
       "      <th>2</th>\n",
       "      <td>13.748806</td>\n",
       "      <td>15.370221</td>\n",
       "    </tr>\n",
       "  </tbody>\n",
       "</table>\n",
       "</div>"
      ],
      "text/plain": [
       "        norm       unif\n",
       "0  10.160155  12.524060\n",
       "1   8.068291   5.068138\n",
       "2  13.748806  15.370221"
      ]
     },
     "execution_count": 15,
     "metadata": {},
     "output_type": "execute_result"
    }
   ],
   "source": [
    "df_a = pd.DataFrame(data=vals_norm, columns=['norm'])\n",
    "df_b = pd.DataFrame(data=vals_unif, columns=['unif'])\n",
    "df = pd.concat([df_a, df_b], axis=1)\n",
    "df.head(3)"
   ]
  },
  {
   "cell_type": "code",
   "execution_count": 16,
   "id": "e34cc475-e66e-48c0-a94c-6112cd591984",
   "metadata": {
    "tags": []
   },
   "outputs": [
    {
     "data": {
      "text/plain": [
       "1.8520334291314082"
      ]
     },
     "execution_count": 16,
     "metadata": {},
     "output_type": "execute_result"
    }
   ],
   "source": [
    "ecarttype(vals_norm)"
   ]
  },
  {
   "cell_type": "code",
   "execution_count": 17,
   "id": "42785606-7ac8-440a-8c9f-45891b122ba4",
   "metadata": {
    "tags": []
   },
   "outputs": [
    {
     "data": {
      "text/plain": [
       "1.8520334291314082"
      ]
     },
     "execution_count": 17,
     "metadata": {},
     "output_type": "execute_result"
    }
   ],
   "source": [
    "df.norm.std() / math.sqrt(15) * math.sqrt(14)"
   ]
  },
  {
   "cell_type": "code",
   "execution_count": 18,
   "id": "79f71ee9-7827-4d8a-ac35-486416114056",
   "metadata": {
    "tags": []
   },
   "outputs": [
    {
     "data": {
      "text/plain": [
       "6.057090924219448"
      ]
     },
     "execution_count": 18,
     "metadata": {},
     "output_type": "execute_result"
    }
   ],
   "source": [
    "df['norm'].cov(df['unif']) / 15 * 14"
   ]
  },
  {
   "cell_type": "code",
   "execution_count": 19,
   "id": "5831dc8a-e284-4c53-b337-39635847de7e",
   "metadata": {
    "tags": []
   },
   "outputs": [
    {
     "data": {
      "text/plain": [
       "6.057090924219447"
      ]
     },
     "execution_count": 19,
     "metadata": {},
     "output_type": "execute_result"
    }
   ],
   "source": [
    "sum((df['norm'] - df['norm'].mean()) * (df['unif'] - df['unif'].mean())) / len(df['unif'])"
   ]
  },
  {
   "cell_type": "code",
   "execution_count": 20,
   "id": "b723f6b1-aedc-44b1-8c2c-92abb249d1e5",
   "metadata": {
    "tags": []
   },
   "outputs": [
    {
     "data": {
      "text/plain": [
       "0.6418303923274362"
      ]
     },
     "execution_count": 20,
     "metadata": {},
     "output_type": "execute_result"
    }
   ],
   "source": [
    "df['norm'].corr(df['unif'])"
   ]
  },
  {
   "cell_type": "code",
   "execution_count": 21,
   "id": "ced8c98d-9a3c-47b3-9655-614ea7c2530d",
   "metadata": {
    "tags": []
   },
   "outputs": [
    {
     "data": {
      "text/plain": [
       "0.2332781735042774"
      ]
     },
     "execution_count": 21,
     "metadata": {},
     "output_type": "execute_result"
    }
   ],
   "source": [
    "r = df['norm'].corr(df['unif'])\n",
    "a = r * ecarttype(df['norm']) / ecarttype(df['unif'])\n",
    "a"
   ]
  },
  {
   "cell_type": "code",
   "execution_count": 22,
   "id": "1c554b3d-9839-4a85-b982-3fb9df49f86f",
   "metadata": {
    "tags": []
   },
   "outputs": [
    {
     "data": {
      "text/plain": [
       "7.611264511476236"
      ]
     },
     "execution_count": 22,
     "metadata": {},
     "output_type": "execute_result"
    }
   ],
   "source": [
    "moyenne(df['unif'] - a * moyenne(df['norm']))"
   ]
  },
  {
   "cell_type": "code",
   "execution_count": 23,
   "id": "5117f272-4556-4bee-9b53-af0832d420da",
   "metadata": {
    "tags": []
   },
   "outputs": [
    {
     "data": {
      "text/html": [
       "<div>\n",
       "<style scoped>\n",
       "    .dataframe tbody tr th:only-of-type {\n",
       "        vertical-align: middle;\n",
       "    }\n",
       "\n",
       "    .dataframe tbody tr th {\n",
       "        vertical-align: top;\n",
       "    }\n",
       "\n",
       "    .dataframe thead th {\n",
       "        text-align: right;\n",
       "    }\n",
       "</style>\n",
       "<table border=\"1\" class=\"dataframe\">\n",
       "  <thead>\n",
       "    <tr style=\"text-align: right;\">\n",
       "      <th></th>\n",
       "      <th>norm</th>\n",
       "      <th>unif</th>\n",
       "    </tr>\n",
       "  </thead>\n",
       "  <tbody>\n",
       "    <tr>\n",
       "      <th>0</th>\n",
       "      <td>14.104693</td>\n",
       "      <td>5.214315</td>\n",
       "    </tr>\n",
       "    <tr>\n",
       "      <th>1</th>\n",
       "      <td>8.918477</td>\n",
       "      <td>7.387375</td>\n",
       "    </tr>\n",
       "    <tr>\n",
       "      <th>2</th>\n",
       "      <td>8.968162</td>\n",
       "      <td>8.976020</td>\n",
       "    </tr>\n",
       "  </tbody>\n",
       "</table>\n",
       "</div>"
      ],
      "text/plain": [
       "        norm      unif\n",
       "0  14.104693  5.214315\n",
       "1   8.918477  7.387375\n",
       "2   8.968162  8.976020"
      ]
     },
     "execution_count": 23,
     "metadata": {},
     "output_type": "execute_result"
    }
   ],
   "source": [
    "a = np.random.normal(loc=10, scale=2, size=20)\n",
    "b = np.random.uniform(low=0, high=20, size=20)\n",
    "df_a = pd.DataFrame(data=a, columns=['norm'])\n",
    "df_b = pd.DataFrame(data=b, columns=['unif'])\n",
    "df_2 = pd.concat([df_a, df_b], axis=1)\n",
    "df_2.head(3)"
   ]
  },
  {
   "cell_type": "code",
   "execution_count": 24,
   "id": "e66bba3b-3758-447b-9144-7141f9123990",
   "metadata": {
    "tags": []
   },
   "outputs": [
    {
     "data": {
      "text/plain": [
       "35"
      ]
     },
     "execution_count": 24,
     "metadata": {},
     "output_type": "execute_result"
    }
   ],
   "source": [
    "df = pd.concat([df, df_2], ignore_index=True)\n",
    "len(df)"
   ]
  },
  {
   "cell_type": "code",
   "execution_count": 25,
   "id": "8c57f68e-9640-4dd5-8856-1c32ef1393c5",
   "metadata": {
    "tags": []
   },
   "outputs": [],
   "source": [
    "df['somme'] = df.norm + df.unif"
   ]
  },
  {
   "cell_type": "code",
   "execution_count": 26,
   "id": "28ed1abc-3d6f-4f11-a990-0228f59caf87",
   "metadata": {
    "tags": []
   },
   "outputs": [
    {
     "data": {
      "text/html": [
       "<div>\n",
       "<style scoped>\n",
       "    .dataframe tbody tr th:only-of-type {\n",
       "        vertical-align: middle;\n",
       "    }\n",
       "\n",
       "    .dataframe tbody tr th {\n",
       "        vertical-align: top;\n",
       "    }\n",
       "\n",
       "    .dataframe thead th {\n",
       "        text-align: right;\n",
       "    }\n",
       "</style>\n",
       "<table border=\"1\" class=\"dataframe\">\n",
       "  <thead>\n",
       "    <tr style=\"text-align: right;\">\n",
       "      <th></th>\n",
       "      <th>norm</th>\n",
       "      <th>unif</th>\n",
       "      <th>somme</th>\n",
       "    </tr>\n",
       "  </thead>\n",
       "  <tbody>\n",
       "    <tr>\n",
       "      <th>0</th>\n",
       "      <td>10.160155</td>\n",
       "      <td>12.524060</td>\n",
       "      <td>22.684215</td>\n",
       "    </tr>\n",
       "    <tr>\n",
       "      <th>1</th>\n",
       "      <td>8.068291</td>\n",
       "      <td>5.068138</td>\n",
       "      <td>13.136429</td>\n",
       "    </tr>\n",
       "    <tr>\n",
       "      <th>2</th>\n",
       "      <td>13.748806</td>\n",
       "      <td>15.370221</td>\n",
       "      <td>29.119027</td>\n",
       "    </tr>\n",
       "    <tr>\n",
       "      <th>3</th>\n",
       "      <td>7.728200</td>\n",
       "      <td>12.653852</td>\n",
       "      <td>20.382052</td>\n",
       "    </tr>\n",
       "    <tr>\n",
       "      <th>5</th>\n",
       "      <td>10.976279</td>\n",
       "      <td>10.948091</td>\n",
       "      <td>21.924370</td>\n",
       "    </tr>\n",
       "  </tbody>\n",
       "</table>\n",
       "</div>"
      ],
      "text/plain": [
       "        norm       unif      somme\n",
       "0  10.160155  12.524060  22.684215\n",
       "1   8.068291   5.068138  13.136429\n",
       "2  13.748806  15.370221  29.119027\n",
       "3   7.728200  12.653852  20.382052\n",
       "5  10.976279  10.948091  21.924370"
      ]
     },
     "execution_count": 26,
     "metadata": {},
     "output_type": "execute_result"
    }
   ],
   "source": [
    "df[df.unif > 5].head()"
   ]
  },
  {
   "cell_type": "code",
   "execution_count": 27,
   "id": "9389cfe0-7ba1-4a37-839e-ad853b294c1b",
   "metadata": {
    "tags": []
   },
   "outputs": [
    {
     "data": {
      "text/html": [
       "<div>\n",
       "<style scoped>\n",
       "    .dataframe tbody tr th:only-of-type {\n",
       "        vertical-align: middle;\n",
       "    }\n",
       "\n",
       "    .dataframe tbody tr th {\n",
       "        vertical-align: top;\n",
       "    }\n",
       "\n",
       "    .dataframe thead th {\n",
       "        text-align: right;\n",
       "    }\n",
       "</style>\n",
       "<table border=\"1\" class=\"dataframe\">\n",
       "  <thead>\n",
       "    <tr style=\"text-align: right;\">\n",
       "      <th></th>\n",
       "      <th>norm</th>\n",
       "      <th>somme</th>\n",
       "    </tr>\n",
       "  </thead>\n",
       "  <tbody>\n",
       "    <tr>\n",
       "      <th>0</th>\n",
       "      <td>10.160155</td>\n",
       "      <td>22.684215</td>\n",
       "    </tr>\n",
       "    <tr>\n",
       "      <th>1</th>\n",
       "      <td>8.068291</td>\n",
       "      <td>13.136429</td>\n",
       "    </tr>\n",
       "    <tr>\n",
       "      <th>2</th>\n",
       "      <td>13.748806</td>\n",
       "      <td>29.119027</td>\n",
       "    </tr>\n",
       "    <tr>\n",
       "      <th>3</th>\n",
       "      <td>7.728200</td>\n",
       "      <td>20.382052</td>\n",
       "    </tr>\n",
       "    <tr>\n",
       "      <th>4</th>\n",
       "      <td>7.729887</td>\n",
       "      <td>7.854098</td>\n",
       "    </tr>\n",
       "  </tbody>\n",
       "</table>\n",
       "</div>"
      ],
      "text/plain": [
       "        norm      somme\n",
       "0  10.160155  22.684215\n",
       "1   8.068291  13.136429\n",
       "2  13.748806  29.119027\n",
       "3   7.728200  20.382052\n",
       "4   7.729887   7.854098"
      ]
     },
     "execution_count": 27,
     "metadata": {},
     "output_type": "execute_result"
    }
   ],
   "source": [
    "df[['norm', 'somme']].head()"
   ]
  },
  {
   "cell_type": "code",
   "execution_count": null,
   "id": "8805445f-be21-4f96-a74c-a1467d9b6d06",
   "metadata": {},
   "outputs": [],
   "source": []
  }
 ],
 "metadata": {
  "kernelspec": {
   "display_name": "Python 3 (ipykernel)",
   "language": "python",
   "name": "python3"
  },
  "language_info": {
   "codemirror_mode": {
    "name": "ipython",
    "version": 3
   },
   "file_extension": ".py",
   "mimetype": "text/x-python",
   "name": "python",
   "nbconvert_exporter": "python",
   "pygments_lexer": "ipython3",
   "version": "3.7.9"
  }
 },
 "nbformat": 4,
 "nbformat_minor": 5
}
